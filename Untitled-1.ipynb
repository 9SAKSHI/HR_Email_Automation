{
 "cells": [
  {
   "cell_type": "code",
   "execution_count": 2,
   "metadata": {},
   "outputs": [],
   "source": [
    "import pandas as pd # type: ignore\n",
    "\n",
    "file_path = r'C:\\Users\\SNR23\\Desktop\\HR Automation\\Email_Automation\\Gearup Email Automation\\Gearup Email Automation\\DSGS_Offer status sheet_2025_V1.xlsx'\n",
    "\n",
    "df = pd.read_excel(file_path)\n",
    "\n"
   ]
  },
  {
   "cell_type": "code",
   "execution_count": 3,
   "metadata": {},
   "outputs": [
    {
     "data": {
      "text/html": [
       "<div>\n",
       "<style scoped>\n",
       "    .dataframe tbody tr th:only-of-type {\n",
       "        vertical-align: middle;\n",
       "    }\n",
       "\n",
       "    .dataframe tbody tr th {\n",
       "        vertical-align: top;\n",
       "    }\n",
       "\n",
       "    .dataframe thead th {\n",
       "        text-align: right;\n",
       "    }\n",
       "</style>\n",
       "<table border=\"1\" class=\"dataframe\">\n",
       "  <thead>\n",
       "    <tr style=\"text-align: right;\">\n",
       "      <th></th>\n",
       "      <th>Sr. No.</th>\n",
       "      <th>Offer id</th>\n",
       "      <th>Trigram</th>\n",
       "      <th>Title</th>\n",
       "      <th>HF #</th>\n",
       "      <th>Name</th>\n",
       "      <th>Emp Type</th>\n",
       "      <th>Business Title</th>\n",
       "      <th>Relevant Exp.(in yrs)</th>\n",
       "      <th>Grad/PG/Masters</th>\n",
       "      <th>...</th>\n",
       "      <th>Current company</th>\n",
       "      <th>College name</th>\n",
       "      <th>Primary source</th>\n",
       "      <th>Job Family</th>\n",
       "      <th>Sub Type</th>\n",
       "      <th>Status.1</th>\n",
       "      <th>Gear-up</th>\n",
       "      <th>Offer accepted</th>\n",
       "      <th>Revised Offer Date</th>\n",
       "      <th>Pre-BGV Initiation</th>\n",
       "    </tr>\n",
       "  </thead>\n",
       "  <tbody>\n",
       "    <tr>\n",
       "      <th>0</th>\n",
       "      <td>1</td>\n",
       "      <td>-</td>\n",
       "      <td>-</td>\n",
       "      <td>-</td>\n",
       "      <td>-</td>\n",
       "      <td>Rutuja Wankhade</td>\n",
       "      <td>Paid Intern</td>\n",
       "      <td>-</td>\n",
       "      <td>-</td>\n",
       "      <td>-</td>\n",
       "      <td>...</td>\n",
       "      <td>-</td>\n",
       "      <td>-</td>\n",
       "      <td>-</td>\n",
       "      <td>-</td>\n",
       "      <td>Intern</td>\n",
       "      <td>-</td>\n",
       "      <td>-</td>\n",
       "      <td>-</td>\n",
       "      <td>-</td>\n",
       "      <td>-</td>\n",
       "    </tr>\n",
       "    <tr>\n",
       "      <th>1</th>\n",
       "      <td>2</td>\n",
       "      <td>-</td>\n",
       "      <td>-</td>\n",
       "      <td>-</td>\n",
       "      <td>-</td>\n",
       "      <td>Vijay Pilaware</td>\n",
       "      <td>Direct Contractor</td>\n",
       "      <td>-</td>\n",
       "      <td>-</td>\n",
       "      <td>-</td>\n",
       "      <td>...</td>\n",
       "      <td>-</td>\n",
       "      <td>-</td>\n",
       "      <td>-</td>\n",
       "      <td>-</td>\n",
       "      <td>Lateral</td>\n",
       "      <td>-</td>\n",
       "      <td>-</td>\n",
       "      <td>-</td>\n",
       "      <td>-</td>\n",
       "      <td>-</td>\n",
       "    </tr>\n",
       "  </tbody>\n",
       "</table>\n",
       "<p>2 rows × 74 columns</p>\n",
       "</div>"
      ],
      "text/plain": [
       "   Sr. No. Offer id Trigram  Title HF #             Name           Emp Type  \\\n",
       "0        1        -        -     -    -  Rutuja Wankhade        Paid Intern   \n",
       "1        2        -        -     -    -   Vijay Pilaware  Direct Contractor   \n",
       "\n",
       "  Business Title Relevant Exp.(in yrs) Grad/PG/Masters  ... Current company  \\\n",
       "0              -                     -               -  ...               -   \n",
       "1              -                     -               -  ...               -   \n",
       "\n",
       "  College name Primary source Job Family Sub Type Status.1 Gear-up  \\\n",
       "0            -              -          -   Intern        -       -   \n",
       "1            -              -          -  Lateral        -       -   \n",
       "\n",
       "  Offer accepted Revised Offer Date Pre-BGV Initiation  \n",
       "0              -                  -                  -  \n",
       "1              -                  -                  -  \n",
       "\n",
       "[2 rows x 74 columns]"
      ]
     },
     "execution_count": 3,
     "metadata": {},
     "output_type": "execute_result"
    }
   ],
   "source": [
    "df"
   ]
  },
  {
   "cell_type": "code",
   "execution_count": null,
   "metadata": {},
   "outputs": [],
   "source": [
    "candidate_name = row['Candidate Name']\n",
    "candidate_name = df['Name']\n",
    "email = df['Candidate Email Id']\n",
    "location = df['Location']\n",
    "candidate_type =df['Emp Type']"
   ]
  },
  {
   "cell_type": "code",
   "execution_count": 5,
   "metadata": {},
   "outputs": [
    {
     "name": "stdout",
     "output_type": "stream",
     "text": [
      "0    Rutuja Wankhade\n",
      "1     Vijay Pilaware\n",
      "Name: Name, dtype: object\n"
     ]
    }
   ],
   "source": [
    "print (candidate_name)"
   ]
  },
  {
   "cell_type": "code",
   "execution_count": null,
   "metadata": {},
   "outputs": [],
   "source": []
  }
 ],
 "metadata": {
  "kernelspec": {
   "display_name": "Python 3",
   "language": "python",
   "name": "python3"
  },
  "language_info": {
   "codemirror_mode": {
    "name": "ipython",
    "version": 3
   },
   "file_extension": ".py",
   "mimetype": "text/x-python",
   "name": "python",
   "nbconvert_exporter": "python",
   "pygments_lexer": "ipython3",
   "version": "3.9.11"
  }
 },
 "nbformat": 4,
 "nbformat_minor": 2
}
